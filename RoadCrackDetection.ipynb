{
 "cells": [
  {
   "cell_type": "markdown",
   "metadata": {},
   "source": [
    "### Importing all the important libraries"
   ]
  },
  {
   "cell_type": "code",
   "execution_count": 2,
   "metadata": {},
   "outputs": [],
   "source": [
    "import pathlib\n",
    "import tensorflow as tf\n",
    "import matplotlib.pyplot as plt\n",
    "import numpy as np\n",
    "import pandas as pd\n",
    "import os\n",
    "import PIL\n",
    "from tensorflow import keras\n",
    "from tensorflow.keras import layers\n",
    "from tensorflow.keras.models import Sequential\n",
    "import shutil, random, os\n",
    "\n",
    "from tensorflow.keras.datasets import cifar10\n",
    "from tensorflow.keras.preprocessing.image import ImageDataGenerator\n",
    "from tensorflow.keras import Sequential\n",
    "from tensorflow.keras.layers import Dense, Dropout, Activation, Flatten, BatchNormalization, Conv2D, MaxPooling2D\n",
    "from tensorflow.keras.regularizers import l2"
   ]
  },
  {
   "cell_type": "code",
   "execution_count": 8,
   "metadata": {},
   "outputs": [],
   "source": [
    "\n",
    "#dirpath = 'C:\\\\Users\\\\91701\\\\OneDrive\\\\thesiscode\\\\data\\\\train'\n",
    "#destDirectory = 'your/destination'\n",
    "\n",
    "def randomCopy(srcdir,tgtdir,sample):\n",
    "    filenames = random.sample(os.listdir(srcdir), sample)\n",
    "    for fname in filenames:\n",
    "        srcpath = os.path.join(srcdir, fname)\n",
    "        shutil.move(srcpath, tgtdir)"
   ]
  },
  {
   "cell_type": "code",
   "execution_count": 9,
   "metadata": {},
   "outputs": [],
   "source": [
    "#randomCopy('C:\\\\Users\\\\91701\\\\OneDrive\\\\thesiscode\\\\data\\\\train\\\\uncracked','C:\\\\Users\\\\91701\\\\OneDrive\\\\thesiscode\\\\data\\\\test\\\\uncracked',2000)"
   ]
  },
  {
   "cell_type": "code",
   "execution_count": 10,
   "metadata": {},
   "outputs": [],
   "source": [
    "#randomCopy('C:\\\\Users\\\\91701\\\\OneDrive\\\\thesiscode\\\\data\\\\train\\\\cracked','C:\\\\Users\\\\91701\\\\OneDrive\\\\thesiscode\\\\data\\\\test\\\\cracked',2000)"
   ]
  },
  {
   "cell_type": "code",
   "execution_count": 11,
   "metadata": {},
   "outputs": [],
   "source": [
    "# Defining the path for train and test images\n",
    "## Todo: Update the paths of the train and test dataset\n",
    "data_dir_train = pathlib.Path(\"C:\\\\Users\\\\91701\\\\OneDrive\\\\thesiscode\\\\data\\\\train\")\n",
    "data_dir_test = pathlib.Path(\"C:\\\\Users\\\\91701\\\\OneDrive\\\\thesiscode\\\\data\\\\test\")"
   ]
  },
  {
   "cell_type": "code",
   "execution_count": 12,
   "metadata": {},
   "outputs": [
    {
     "name": "stdout",
     "output_type": "stream",
     "text": [
      "10968\n",
      "4000\n"
     ]
    }
   ],
   "source": [
    "image_count_train = len(list(data_dir_train.glob('*/*.jpg')))\n",
    "print(image_count_train)\n",
    "image_count_test = len(list(data_dir_test.glob('*/*.jpg')))\n",
    "print(image_count_test)"
   ]
  },
  {
   "cell_type": "code",
   "execution_count": null,
   "metadata": {},
   "outputs": [],
   "source": []
  }
 ],
 "metadata": {
  "kernelspec": {
   "display_name": "Python 3",
   "language": "python",
   "name": "python3"
  },
  "language_info": {
   "codemirror_mode": {
    "name": "ipython",
    "version": 3
   },
   "file_extension": ".py",
   "mimetype": "text/x-python",
   "name": "python",
   "nbconvert_exporter": "python",
   "pygments_lexer": "ipython3",
   "version": "3.7.6"
  }
 },
 "nbformat": 4,
 "nbformat_minor": 4
}
